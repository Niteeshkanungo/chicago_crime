{
 "cells": [
  {
   "cell_type": "code",
   "execution_count": 34,
   "metadata": {},
   "outputs": [],
   "source": [
    "import numpy as np\n",
    "import pandas as pd\n",
    "import matplotlib.pyplot as plt\n",
    "import matplotlib.ticker as ticker\n",
    "from matplotlib.pyplot import figure"
   ]
  },
  {
   "cell_type": "code",
   "execution_count": 35,
   "metadata": {},
   "outputs": [],
   "source": [
    "#Data only of 2018\n",
    "chicago = pd.read_csv(\"crimes_2018.csv\")\n",
    "#Data till October\n",
    "#chicago_all = pd.read_csv(\"crime_2001_to_2018.csv\") "
   ]
  },
  {
   "cell_type": "code",
   "execution_count": 36,
   "metadata": {},
   "outputs": [
    {
     "data": {
      "text/plain": [
       "5    10/12/2018 04:00:00 PM\n",
       "6    10/07/2018 02:41:00 AM\n",
       "7    09/25/2018 06:00:00 AM\n",
       "8    09/16/2018 02:30:00 AM\n",
       "9    10/16/2018 07:00:00 AM\n",
       "Name: Date, dtype: object"
      ]
     },
     "execution_count": 36,
     "metadata": {},
     "output_type": "execute_result"
    }
   ],
   "source": [
    "#Date format looks a bit sketchy\n",
    "chicago.Date[5:10]"
   ]
  },
  {
   "cell_type": "code",
   "execution_count": 37,
   "metadata": {},
   "outputs": [],
   "source": [
    "chicago = chicago.sort_values(\"Date\", ascending=False)"
   ]
  },
  {
   "cell_type": "code",
   "execution_count": 38,
   "metadata": {},
   "outputs": [
    {
     "data": {
      "text/plain": [
       "ID                      210585\n",
       "Case Number             210585\n",
       "Date                    210585\n",
       "Block                   210585\n",
       "IUCR                    210585\n",
       "Primary Type            210585\n",
       "Description             210585\n",
       "Location Description    210087\n",
       "Arrest                  210585\n",
       "Domestic                210585\n",
       "Beat                    210585\n",
       "District                210585\n",
       "Ward                    210583\n",
       "Community Area          210583\n",
       "FBI Code                210585\n",
       "X Coordinate            209355\n",
       "Y Coordinate            209355\n",
       "Year                    210585\n",
       "Updated On              210585\n",
       "Latitude                209355\n",
       "Longitude               209355\n",
       "Location                209355\n",
       "dtype: int64"
      ]
     },
     "execution_count": 38,
     "metadata": {},
     "output_type": "execute_result"
    }
   ],
   "source": [
    "chicago.count()"
   ]
  },
  {
   "cell_type": "code",
   "execution_count": null,
   "metadata": {},
   "outputs": [],
   "source": []
  }
 ],
 "metadata": {
  "kernelspec": {
   "display_name": "Python 3",
   "language": "python",
   "name": "python3"
  },
  "language_info": {
   "codemirror_mode": {
    "name": "ipython",
    "version": 3
   },
   "file_extension": ".py",
   "mimetype": "text/x-python",
   "name": "python",
   "nbconvert_exporter": "python",
   "pygments_lexer": "ipython3",
   "version": "3.7.0"
  }
 },
 "nbformat": 4,
 "nbformat_minor": 2
}
